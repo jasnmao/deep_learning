{
 "cells": [
  {
   "cell_type": "code",
   "execution_count": 6,
   "id": "c5350852",
   "metadata": {},
   "outputs": [],
   "source": [
    "import numpy as np\n",
    "import pandas as pd\n",
    "import torch\n",
    "from torch import nn\n",
    "import torch.nn.functional as F\n",
    "import torchvision\n",
    "import d2l\n",
    "import matplotlib.pyplot as plt\n",
    "%matplotlib inline"
   ]
  },
  {
   "cell_type": "code",
   "execution_count": 7,
   "id": "a6e8dc89",
   "metadata": {},
   "outputs": [],
   "source": [
    "#下面进入backbone网络模块实现\n",
    "#基础模块-Conv模块\n",
    "class Conv(nn.Module):\n",
    "    def __init__(self,in_channels,out_channels,kernel_size=1,stride=1,padding=None,groups=1,activation=None):\n",
    "        super().__init__()\n",
    "        if padding is None:\n",
    "            padding=kernel_size//2\n",
    "        \n",
    "        self.conv=nn.Conv2d(in_channels,out_channels,\n",
    "                            kernel_size,stride,padding,\n",
    "                            groups=groups,bias=False)\n",
    "        self.bn=nn.BatchNorm2d(out_channels)\n",
    "        self.act=nn.SiLU() if activation else nn.Identity()\n",
    "    \n",
    "    def foreard(self,X):\n",
    "        return self.act(self.bn(self.conv(X)))\n",
    "\n",
    "#瓶颈模块\n",
    "class BottleNeck(nn.Module):\n",
    "    def __init__(self, in_channels,out_channels,shortcut=True):\n",
    "        super().__init__()\n",
    "        self.conv1=nn.Conv2d(in_channels,out_channels,1,1)\n",
    "        self.conv2=nn.Conv2d(out_channels,out_channels,3,1)\n",
    "        self.shortcut=shortcut and in_channels==out_channels\n",
    "    \n",
    "    def forward(self,X):\n",
    "        if self.shortcut:\n",
    "            return X+self.conv2(self.conv1(X))\n",
    "        else:\n",
    "            return self.conv2(self.conv1(X))"
   ]
  }
 ],
 "metadata": {
  "kernelspec": {
   "display_name": "base",
   "language": "python",
   "name": "python3"
  },
  "language_info": {
   "codemirror_mode": {
    "name": "ipython",
    "version": 3
   },
   "file_extension": ".py",
   "mimetype": "text/x-python",
   "name": "python",
   "nbconvert_exporter": "python",
   "pygments_lexer": "ipython3",
   "version": "3.12.3"
  }
 },
 "nbformat": 4,
 "nbformat_minor": 5
}
